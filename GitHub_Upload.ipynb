{
 "cells": [
  {
   "cell_type": "code",
   "execution_count": null,
   "metadata": {},
   "outputs": [],
   "source": [
    "# 깃허브 초기 업로드 및 명령어 "
   ]
  },
  {
   "cell_type": "code",
   "execution_count": null,
   "metadata": {},
   "outputs": [],
   "source": [
    "# 깃허브 설치후 제대로 설치 됬는지 확인\n",
    "# git 실행후 git안내가 정상적으로 나오면 제대로 설치됨\n",
    "git"
   ]
  },
  {
   "cell_type": "code",
   "execution_count": null,
   "metadata": {},
   "outputs": [],
   "source": [
    "# 깃허브 업로드용 폴더를 생성후 원하는 경로로 이동하기 \n",
    "\n",
    "cd -> 원하는 폴더로 이동 (ex. cd Programming/Git) -> Programming 폴더에 Git 폴더로 이동\n",
    "pwd -> 현재 지정되있는 폴더확인\n",
    "ls -> 지정폴더 내의 있는 파일 및 상태 확인"
   ]
  },
  {
   "cell_type": "code",
   "execution_count": null,
   "metadata": {},
   "outputs": [],
   "source": [
    "# 해당 폴더를 GitHub와 연동 (.git라는 숨겨진 폴더 생성)\n",
    "git init -> 현재위치한 폴더를 GitHubd와 연결"
   ]
  },
  {
   "cell_type": "code",
   "execution_count": null,
   "metadata": {},
   "outputs": [],
   "source": [
    "# GitHub 계정과 연결\n",
    "git config --global user.name \"Hello.git.GitHub.gmail.com\" -> 깃허브 본인 이메일 연동을 위해 입력\n",
    "-> 비밀번호 입력창에 비밀번호입력시 연동"
   ]
  },
  {
   "cell_type": "code",
   "execution_count": null,
   "metadata": {},
   "outputs": [],
   "source": [
    "# Git 폴더에 만들어 놓은 README.txt파일 업로드 \n",
    "git add README.txt"
   ]
  },
  {
   "cell_type": "code",
   "execution_count": null,
   "metadata": {},
   "outputs": [],
   "source": [
    "# 커밋에 상세 설명 작성( -m 은 message의 약자)\n",
    "gir commit -m '사이트 설명 추가'"
   ]
  },
  {
   "cell_type": "code",
   "execution_count": null,
   "metadata": {},
   "outputs": [],
   "source": [
    "# 커밋에 상세 설명 작성 2번째\n",
    "git commit -m \"설명 업데이트\""
   ]
  },
  {
   "cell_type": "code",
   "execution_count": null,
   "metadata": {},
   "outputs": [],
   "source": [
    "# 지금까지 커밋한 내용 확인\n",
    "git log"
   ]
  },
  {
   "cell_type": "code",
   "execution_count": null,
   "metadata": {},
   "outputs": [],
   "source": [
    "# 2가지의 커밋상태중 원하는 커밋으로 돌아가기\n",
    "# git log 에서 확인한 commit 96e3ee51b1b~~등등 복사 \n",
    "git checkout 96e3ee51b1b"
   ]
  },
  {
   "cell_type": "code",
   "execution_count": null,
   "metadata": {},
   "outputs": [],
   "source": [
    "# 최신 커밋으로 돌아가기 \n",
    "git checkout -"
   ]
  }
 ],
 "metadata": {
  "kernelspec": {
   "display_name": "Python 3",
   "language": "python",
   "name": "python3"
  },
  "language_info": {
   "codemirror_mode": {
    "name": "ipython",
    "version": 3
   },
   "file_extension": ".py",
   "mimetype": "text/x-python",
   "name": "python",
   "nbconvert_exporter": "python",
   "pygments_lexer": "ipython3",
   "version": "3.8.5"
  }
 },
 "nbformat": 4,
 "nbformat_minor": 4
}
